{
 "cells": [
  {
   "cell_type": "code",
   "execution_count": null,
   "metadata": {},
   "outputs": [],
   "source": [
    "#software informatico\n",
    "#Materia:Metodos Numericos\n",
    "#Docente:MM.Jorge Pool Cen\n",
    "#unidad 3\n",
    "#Sistemas computacionales 4-A\n",
    "#Integrantes del equipo:\n",
    "#Dzul Noh Jose Julio\n",
    "#Llanes Barrera Luis Angel\n",
    "#Poot Pool Riger Emmanuel\n"
   ]
  },
  {
   "cell_type": "markdown",
   "metadata": {},
   "source": [
    "**METODOS DE SOLUCION PARA ECUACIONES LINELAES**"
   ]
  },
  {
   "cell_type": "markdown",
   "metadata": {},
   "source": [
    "**METODO DE JACOBI**"
   ]
  },
  {
   "cell_type": "code",
   "execution_count": 1,
   "metadata": {},
   "outputs": [],
   "source": [
    "import numpy as np\n",
    "\n",
    "T= np.asarray([[0,1/10,-1/5,0],[1/11,0,1/11,-3/11],[-1/5,1/10,0,1/10],[0,-3/8,1/8,0]])\n",
    "C= np.asarray([3/5,25/11,-11/10,15/8])\n",
    "X= np.asarray([0,0,0,0])"
   ]
  },
  {
   "cell_type": "code",
   "execution_count": 2,
   "metadata": {},
   "outputs": [
    {
     "name": "stdout",
     "output_type": "stream",
     "text": [
      "vector resultado en Iteracion  1  :  [ 0.6         2.27272727 -1.1         1.875     ]\n",
      "vector resultado en Iteracion  2  :  [ 1.04727273  1.71590909 -0.80522727  0.88522727]\n",
      "vector resultado en Iteracion  3  :  [ 0.93263636  2.05330579 -1.04934091  1.13088068]\n",
      "vector resultado en Iteracion  4  :  [ 1.01519876  1.95369576 -0.96810863  0.97384272]\n",
      "vector resultado en Iteracion  5  :  [ 0.9889913   2.01141473 -1.0102859   1.02135051]\n",
      "vector resultado en Iteracion  6  :  [ 1.00319865  1.99224126 -0.99452174  0.99443374]\n",
      "vector resultado en Iteracion  7  :  [ 0.99812847  2.00230688 -1.00197223  1.00359431]\n",
      "vector resultado en Iteracion  8  :  [ 1.00062513  1.9986703  -0.99903558  0.99888839]\n",
      "vector resultado en Iteracion  9  :  [ 0.99967415  2.00044767 -1.00036916  1.00061919]\n",
      "Solucion final aproximada[ 0.99967415  2.00044767 -1.00036916  1.00061919]\n"
     ]
    }
   ],
   "source": [
    "def jacobi (T,C,X, error, iteraciones):\n",
    "    e=1\n",
    "    i=0\n",
    "    while i<iteraciones:\n",
    "        resultado = np.dot(T,X)+C\n",
    "        numerador = np.amax(abs(resultado-X))\n",
    "        denominador = np.amax(abs(resultado))\n",
    "        e= numerador/denominador\n",
    "        print(\"vector resultado en Iteracion \",(i+1), \" : \",resultado)\n",
    "        X=resultado\n",
    "        if e< error:\n",
    "            return \"Solucion final aproximada\"+ str(X)\n",
    "            break\n",
    "        i+=1\n",
    "    return \"SE HA ALCANZADO EL NUMERO MAXIMO DE ITERACIONES\" +\"\\nLa solucion alcanzada con \" + str((i))+\"iteraciones es: \" + str(X)\n",
    "    \n",
    "print(jacobi(T,C,X,0.001,10))"
   ]
  },
  {
   "cell_type": "code",
   "execution_count": null,
   "metadata": {},
   "outputs": [],
   "source": []
  },
  {
   "cell_type": "markdown",
   "metadata": {},
   "source": [
    "**METODO DE GAUSS SEIDEL**"
   ]
  },
  {
   "cell_type": "code",
   "execution_count": 20,
   "metadata": {},
   "outputs": [
    {
     "name": "stdout",
     "output_type": "stream",
     "text": [
      "valor M:3\n",
      "valor N:3\n",
      "metodo de gauss seidel\n",
      "introduzca la matriz de coeficiente y el vector de solucion\n",
      "Elemento a [11]3\n",
      "Elemento a [12]-0.1\n",
      "Elemento a [13]-0.2\n",
      "b[1]:7.85\n",
      "Elemento a [21]0.1\n",
      "Elemento a [22]0.3\n",
      "Elemento a [23]-0.4\n",
      "b[2]:8\n",
      "Elemento a [31]0.3\n",
      "Elemento a [32]-0.2\n",
      "Elemento a [33]3\n",
      "b[3]:4\n",
      "toleracion de error que desea0.001\n",
      "iteraciones que desea 60\n",
      "x[0]: 2.6166666666666667\n",
      "x[1]: 25.794444444444444\n",
      "x[2]: 2.7912962962962964\n",
      "error en [ 0 ] = 3.1377037037037034\n",
      "error en [ 1 ] = 1.116518518518519\n",
      "error en [ 2 ] = 0.0\n",
      "iteraciones: 1\n",
      "x[0]: 3.6625679012345675\n",
      "x[1]: 29.167539094650206\n",
      "x[2]: 2.91157914951989\n",
      "error en [ 0 ] = 0.361366035665295\n",
      "error en [ 1 ] = 0.04811314128943778\n",
      "error en [ 2 ] = 8.881784197001252e-16\n",
      "iteraciones: 2\n",
      "x[0]: 3.7830232464563327\n",
      "x[1]: 29.28776445054108\n",
      "x[2]: 2.9075486387237723\n",
      "error en [ 0 ] = 0.011216433429864558\n",
      "error en [ 1 ] = 0.0016122043184463308\n",
      "error en [ 2 ] = 0.0\n",
      "iteraciones: 3\n",
      "x[0]: 3.7867620575996206\n",
      "x[1]: 29.28114416576516\n",
      "x[2]: 2.9067334052910483\n",
      "error en [ 0 ] = 0.000825075164136102\n",
      "error en [ 1 ] = 0.0003260933730899751\n",
      "error en [ 2 ] = 8.881784197001252e-16\n",
      "iteraciones: 4\n"
     ]
    }
   ],
   "source": [
    "import numpy\n",
    "m=int(input(\"valor M:\"))\n",
    "n=int(input(\"valor N:\"))\n",
    "matrix=numpy.zeros((m,n))\n",
    "x=numpy.zeros((m))\n",
    "\n",
    "vector=numpy.zeros((n))\n",
    "comp=numpy.zeros((m))\n",
    "error=[]\n",
    "\n",
    "print(\"metodo de gauss seidel\")\n",
    "print(\"introduzca la matriz de coeficiente y el vector de solucion\")\n",
    "for r in range(0,m):\n",
    "    for c in range(0,n):\n",
    "        matrix[(r), (c)] = float (input (\"Elemento a [\" + str (r + 1) + str (c + 1) + \"]\"))\n",
    "    vector[(r)]=float(input(\"b[\"+str(r+1)+\"]:\"))\n",
    "tol=float(input(\"toleracion de error que desea\"))\n",
    "itera=int(input(\"iteraciones que desea \"))\n",
    "\n",
    "k=0\n",
    "while k < itera:\n",
    "    suma=0\n",
    "    k=k+1\n",
    "    for r in range(0,m):\n",
    "        suma=0\n",
    "        for c in range(0,n):\n",
    "            if(c != r):\n",
    "                suma=suma+matrix[r,c]*x[c]\n",
    "        x[r]=(vector[r]-suma)/matrix[r,r]\n",
    "        print(\"x[\"+str(r)+\"]: \"+str(x[r]))\n",
    "    del error[:]\n",
    "    for r in range(0,m):\n",
    "    \n",
    "        suma=0\n",
    "        for c in range(0,n):\n",
    "            suma=suma+matrix[r,c]*x[c]\n",
    "        comp[r]=suma\n",
    "        dif=abs(comp[r]-vector[r])\n",
    "        error.append(dif)\n",
    "        print ( \"error en [\",r,\"] =\",error [ r])\n",
    "    print ( \"iteraciones:\",k ) \n",
    "    if all ( i <= tol for i in error )  ==  True :\n",
    "        break\n",
    "        \n",
    "            \n",
    "           "
   ]
  },
  {
   "cell_type": "code",
   "execution_count": null,
   "metadata": {},
   "outputs": [],
   "source": []
  },
  {
   "cell_type": "markdown",
   "metadata": {},
   "source": [
    "**METODOS DE SOLUCION PARA ECUACIONES NO LINEALES**"
   ]
  },
  {
   "cell_type": "markdown",
   "metadata": {},
   "source": [
    "**METODO DE PUNTO FIJO**"
   ]
  },
  {
   "cell_type": "code",
   "execution_count": 4,
   "metadata": {},
   "outputs": [],
   "source": [
    "import math\n",
    "def fx(x):\n",
    "    return math.exp(-2*x)\n",
    "\n",
    "def errorabsoluto(xactual,xanterior):\n",
    "    return abs(((xactual-xanterior)/xactual))"
   ]
  },
  {
   "cell_type": "code",
   "execution_count": 5,
   "metadata": {},
   "outputs": [],
   "source": [
    "import math\n",
    "\n",
    "def punto_fijo(x,cota,iteraciones):\n",
    "    error=1\n",
    "    while error>cota:\n",
    "        xactual=fx(x)\n",
    "        error=errorabsoluto(xactual,x)\n",
    "        x=xactual\n",
    "        if error>=cota:\n",
    "            print (\"Raiz: \",xactual,\" Error: \",error)"
   ]
  },
  {
   "cell_type": "code",
   "execution_count": 6,
   "metadata": {},
   "outputs": [
    {
     "name": "stdout",
     "output_type": "stream",
     "text": [
      "Raiz:  1.0  Error:  1.0\n",
      "Raiz:  0.1353352832366127  Error:  6.3890560989306495\n",
      "Raiz:  0.7628677692336272  Error:  0.8225966691808597\n",
      "Raiz:  0.2174610470605212  Error:  2.50806629300058\n",
      "Raiz:  0.6473150947651227  Error:  0.6640568884934985\n",
      "Raiz:  0.27399917336073404  Error:  1.3624709769211567\n",
      "Raiz:  0.5781058204396716  Error:  0.5260397600696233\n",
      "Raiz:  0.31467603148281076  Error:  0.8371460251215567\n",
      "Raiz:  0.5329369987801098  Error:  0.4095436567491042\n",
      "Raiz:  0.3444266950887966  Error:  0.5473161818735143\n",
      "Raiz:  0.5021515109541463  Error:  0.3140980608933233\n",
      "Raiz:  0.3662998488240196  Error:  0.3708755615550187\n",
      "Raiz:  0.4806577994854056  Error:  0.23791968170248798\n",
      "Raiz:  0.38238948369875797  Error:  0.25698488053626045\n",
      "Raiz:  0.46543679631197865  Error:  0.17842876470289795\n",
      "Raiz:  0.3942091816712422  Error:  0.18068481900591044\n",
      "Raiz:  0.4545631808100816  Error:  0.13277362022872588\n",
      "Raiz:  0.40287603830141255  Error:  0.12829540006050005\n",
      "Raiz:  0.4467518085994552  Error:  0.0982106159471206\n",
      "Raiz:  0.4092194897213167  Error:  0.09171684101287163\n",
      "Raiz:  0.4411197142707957  Error:  0.0723164789907712\n",
      "Raiz:  0.4138550742911261  Error:  0.06587968028752575\n",
      "Raiz:  0.43704891846577737  Error:  0.05306921764289282\n",
      "Raiz:  0.4172382668899503  Error:  0.04748042820591111\n",
      "Raiz:  0.4341016595226246  Error:  0.03884664401241569\n",
      "Raiz:  0.4197049481231729  Error:  0.03430198157975166\n",
      "Raiz:  0.4319653526098805  Error:  0.02838284231045799\n",
      "Raiz:  0.42150202165392464  Error:  0.024823916418950914\n",
      "Raiz:  0.43041559230864557  Error:  0.020709218750442286\n",
      "Raiz:  0.4228105026383573  Error:  0.01798699328146336\n",
      "Raiz:  0.42929068363636785  Error:  0.015095088817486719\n",
      "Raiz:  0.4237628199089161  Error:  0.013044711493660285\n",
      "Raiz:  0.428473819932487  Error:  0.010994837500954393\n"
     ]
    }
   ],
   "source": [
    "punto_fijo(0,0.01,10)"
   ]
  },
  {
   "cell_type": "code",
   "execution_count": null,
   "metadata": {},
   "outputs": [],
   "source": []
  },
  {
   "cell_type": "markdown",
   "metadata": {},
   "source": [
    "**METODO DE NEWTON RAPHSON**"
   ]
  },
  {
   "cell_type": "code",
   "execution_count": 7,
   "metadata": {},
   "outputs": [],
   "source": [
    "import math\n",
    "def fx(x):\n",
    "    return math.exp(-x)-x\n",
    "\n",
    "def derivadafx(x):\n",
    "    return -math.exp(-x)-1\n",
    "\n",
    "def errorabsoluto(xactual,xanterior):\n",
    "    return ((xactual-xanterior)/xactual)"
   ]
  },
  {
   "cell_type": "code",
   "execution_count": 8,
   "metadata": {},
   "outputs": [],
   "source": [
    "def newton(x,cota,iteraciones):\n",
    "    error=1\n",
    "    while error>cota:\n",
    "        xactual=x-(fx(x)/derivadafx(x))\n",
    "        error=errorabsoluto(xactual,x)\n",
    "        x=xactual\n",
    "        print (\"Raiz: \",xactual,\" Error: \",error)"
   ]
  },
  {
   "cell_type": "code",
   "execution_count": 9,
   "metadata": {},
   "outputs": [
    {
     "name": "stdout",
     "output_type": "stream",
     "text": [
      "Raiz:  0.5  Error:  1.0\n",
      "Raiz:  0.5663110031972182  Error:  0.11709290976662397\n",
      "Raiz:  0.5671431650348622  Error:  0.0014672870783743904\n"
     ]
    }
   ],
   "source": [
    "newton(0,0.01,10)"
   ]
  },
  {
   "cell_type": "code",
   "execution_count": null,
   "metadata": {},
   "outputs": [],
   "source": []
  }
 ],
 "metadata": {
  "kernelspec": {
   "display_name": "Python 3",
   "language": "python",
   "name": "python3"
  },
  "language_info": {
   "codemirror_mode": {
    "name": "ipython",
    "version": 3
   },
   "file_extension": ".py",
   "mimetype": "text/x-python",
   "name": "python",
   "nbconvert_exporter": "python",
   "pygments_lexer": "ipython3",
   "version": "3.8.5"
  }
 },
 "nbformat": 4,
 "nbformat_minor": 4
}
